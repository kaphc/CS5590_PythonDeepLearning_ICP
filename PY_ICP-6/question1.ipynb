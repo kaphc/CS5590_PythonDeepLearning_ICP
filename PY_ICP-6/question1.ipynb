{
 "cells": [
  {
   "cell_type": "markdown",
   "metadata": {},
   "source": [
    "import libraries"
   ]
  },
  {
   "cell_type": "code",
   "execution_count": 4,
   "metadata": {
    "pycharm": {
     "is_executing": false,
     "name": "#%%\n"
    }
   },
   "outputs": [],
   "source": [
    "import pandas as pd\n",
    "from sklearn.decomposition import PCA\n",
    "from sklearn.cluster import KMeans\n",
    "import matplotlib.pyplot as plt\n",
    "import seaborn as sns\n",
    "from pathlib import Path\n",
    "import warnings\n",
    "warnings.filterwarnings(\"ignore\")"
   ]
  },
  {
   "cell_type": "markdown",
   "metadata": {},
   "source": [
    "import dataset"
   ]
  },
  {
   "cell_type": "code",
   "execution_count": 5,
   "metadata": {},
   "outputs": [],
   "source": [
    "data = pd.read_csv(Path('data/CC.csv'))"
   ]
  },
  {
   "cell_type": "markdown",
   "metadata": {},
   "source": [
    "print first 10 values"
   ]
  },
  {
   "cell_type": "code",
   "execution_count": 7,
   "metadata": {},
   "outputs": [
    {
     "data": {
      "text/html": [
       "<div>\n",
       "<style scoped>\n",
       "    .dataframe tbody tr th:only-of-type {\n",
       "        vertical-align: middle;\n",
       "    }\n",
       "\n",
       "    .dataframe tbody tr th {\n",
       "        vertical-align: top;\n",
       "    }\n",
       "\n",
       "    .dataframe thead th {\n",
       "        text-align: right;\n",
       "    }\n",
       "</style>\n",
       "<table border=\"1\" class=\"dataframe\">\n",
       "  <thead>\n",
       "    <tr style=\"text-align: right;\">\n",
       "      <th></th>\n",
       "      <th>CUST_ID</th>\n",
       "      <th>BALANCE</th>\n",
       "      <th>BALANCE_FREQUENCY</th>\n",
       "      <th>PURCHASES</th>\n",
       "      <th>ONEOFF_PURCHASES</th>\n",
       "      <th>INSTALLMENTS_PURCHASES</th>\n",
       "      <th>CASH_ADVANCE</th>\n",
       "      <th>PURCHASES_FREQUENCY</th>\n",
       "      <th>ONEOFF_PURCHASES_FREQUENCY</th>\n",
       "      <th>PURCHASES_INSTALLMENTS_FREQUENCY</th>\n",
       "      <th>CASH_ADVANCE_FREQUENCY</th>\n",
       "      <th>CASH_ADVANCE_TRX</th>\n",
       "      <th>PURCHASES_TRX</th>\n",
       "      <th>CREDIT_LIMIT</th>\n",
       "      <th>PAYMENTS</th>\n",
       "      <th>MINIMUM_PAYMENTS</th>\n",
       "      <th>PRC_FULL_PAYMENT</th>\n",
       "      <th>TENURE</th>\n",
       "    </tr>\n",
       "  </thead>\n",
       "  <tbody>\n",
       "    <tr>\n",
       "      <th>0</th>\n",
       "      <td>C10001</td>\n",
       "      <td>40.900749</td>\n",
       "      <td>0.818182</td>\n",
       "      <td>95.40</td>\n",
       "      <td>0.00</td>\n",
       "      <td>95.40</td>\n",
       "      <td>0.000000</td>\n",
       "      <td>0.166667</td>\n",
       "      <td>0.000000</td>\n",
       "      <td>0.083333</td>\n",
       "      <td>0.000000</td>\n",
       "      <td>0</td>\n",
       "      <td>2</td>\n",
       "      <td>1000.0</td>\n",
       "      <td>201.802084</td>\n",
       "      <td>139.509787</td>\n",
       "      <td>0.000000</td>\n",
       "      <td>12</td>\n",
       "    </tr>\n",
       "    <tr>\n",
       "      <th>1</th>\n",
       "      <td>C10002</td>\n",
       "      <td>3202.467416</td>\n",
       "      <td>0.909091</td>\n",
       "      <td>0.00</td>\n",
       "      <td>0.00</td>\n",
       "      <td>0.00</td>\n",
       "      <td>6442.945483</td>\n",
       "      <td>0.000000</td>\n",
       "      <td>0.000000</td>\n",
       "      <td>0.000000</td>\n",
       "      <td>0.250000</td>\n",
       "      <td>4</td>\n",
       "      <td>0</td>\n",
       "      <td>7000.0</td>\n",
       "      <td>4103.032597</td>\n",
       "      <td>1072.340217</td>\n",
       "      <td>0.222222</td>\n",
       "      <td>12</td>\n",
       "    </tr>\n",
       "    <tr>\n",
       "      <th>2</th>\n",
       "      <td>C10003</td>\n",
       "      <td>2495.148862</td>\n",
       "      <td>1.000000</td>\n",
       "      <td>773.17</td>\n",
       "      <td>773.17</td>\n",
       "      <td>0.00</td>\n",
       "      <td>0.000000</td>\n",
       "      <td>1.000000</td>\n",
       "      <td>1.000000</td>\n",
       "      <td>0.000000</td>\n",
       "      <td>0.000000</td>\n",
       "      <td>0</td>\n",
       "      <td>12</td>\n",
       "      <td>7500.0</td>\n",
       "      <td>622.066742</td>\n",
       "      <td>627.284787</td>\n",
       "      <td>0.000000</td>\n",
       "      <td>12</td>\n",
       "    </tr>\n",
       "    <tr>\n",
       "      <th>3</th>\n",
       "      <td>C10004</td>\n",
       "      <td>1666.670542</td>\n",
       "      <td>0.636364</td>\n",
       "      <td>1499.00</td>\n",
       "      <td>1499.00</td>\n",
       "      <td>0.00</td>\n",
       "      <td>205.788017</td>\n",
       "      <td>0.083333</td>\n",
       "      <td>0.083333</td>\n",
       "      <td>0.000000</td>\n",
       "      <td>0.083333</td>\n",
       "      <td>1</td>\n",
       "      <td>1</td>\n",
       "      <td>7500.0</td>\n",
       "      <td>0.000000</td>\n",
       "      <td>NaN</td>\n",
       "      <td>0.000000</td>\n",
       "      <td>12</td>\n",
       "    </tr>\n",
       "    <tr>\n",
       "      <th>4</th>\n",
       "      <td>C10005</td>\n",
       "      <td>817.714335</td>\n",
       "      <td>1.000000</td>\n",
       "      <td>16.00</td>\n",
       "      <td>16.00</td>\n",
       "      <td>0.00</td>\n",
       "      <td>0.000000</td>\n",
       "      <td>0.083333</td>\n",
       "      <td>0.083333</td>\n",
       "      <td>0.000000</td>\n",
       "      <td>0.000000</td>\n",
       "      <td>0</td>\n",
       "      <td>1</td>\n",
       "      <td>1200.0</td>\n",
       "      <td>678.334763</td>\n",
       "      <td>244.791237</td>\n",
       "      <td>0.000000</td>\n",
       "      <td>12</td>\n",
       "    </tr>\n",
       "    <tr>\n",
       "      <th>5</th>\n",
       "      <td>C10006</td>\n",
       "      <td>1809.828751</td>\n",
       "      <td>1.000000</td>\n",
       "      <td>1333.28</td>\n",
       "      <td>0.00</td>\n",
       "      <td>1333.28</td>\n",
       "      <td>0.000000</td>\n",
       "      <td>0.666667</td>\n",
       "      <td>0.000000</td>\n",
       "      <td>0.583333</td>\n",
       "      <td>0.000000</td>\n",
       "      <td>0</td>\n",
       "      <td>8</td>\n",
       "      <td>1800.0</td>\n",
       "      <td>1400.057770</td>\n",
       "      <td>2407.246035</td>\n",
       "      <td>0.000000</td>\n",
       "      <td>12</td>\n",
       "    </tr>\n",
       "    <tr>\n",
       "      <th>6</th>\n",
       "      <td>C10007</td>\n",
       "      <td>627.260806</td>\n",
       "      <td>1.000000</td>\n",
       "      <td>7091.01</td>\n",
       "      <td>6402.63</td>\n",
       "      <td>688.38</td>\n",
       "      <td>0.000000</td>\n",
       "      <td>1.000000</td>\n",
       "      <td>1.000000</td>\n",
       "      <td>1.000000</td>\n",
       "      <td>0.000000</td>\n",
       "      <td>0</td>\n",
       "      <td>64</td>\n",
       "      <td>13500.0</td>\n",
       "      <td>6354.314328</td>\n",
       "      <td>198.065894</td>\n",
       "      <td>1.000000</td>\n",
       "      <td>12</td>\n",
       "    </tr>\n",
       "    <tr>\n",
       "      <th>7</th>\n",
       "      <td>C10008</td>\n",
       "      <td>1823.652743</td>\n",
       "      <td>1.000000</td>\n",
       "      <td>436.20</td>\n",
       "      <td>0.00</td>\n",
       "      <td>436.20</td>\n",
       "      <td>0.000000</td>\n",
       "      <td>1.000000</td>\n",
       "      <td>0.000000</td>\n",
       "      <td>1.000000</td>\n",
       "      <td>0.000000</td>\n",
       "      <td>0</td>\n",
       "      <td>12</td>\n",
       "      <td>2300.0</td>\n",
       "      <td>679.065082</td>\n",
       "      <td>532.033990</td>\n",
       "      <td>0.000000</td>\n",
       "      <td>12</td>\n",
       "    </tr>\n",
       "    <tr>\n",
       "      <th>8</th>\n",
       "      <td>C10009</td>\n",
       "      <td>1014.926473</td>\n",
       "      <td>1.000000</td>\n",
       "      <td>861.49</td>\n",
       "      <td>661.49</td>\n",
       "      <td>200.00</td>\n",
       "      <td>0.000000</td>\n",
       "      <td>0.333333</td>\n",
       "      <td>0.083333</td>\n",
       "      <td>0.250000</td>\n",
       "      <td>0.000000</td>\n",
       "      <td>0</td>\n",
       "      <td>5</td>\n",
       "      <td>7000.0</td>\n",
       "      <td>688.278568</td>\n",
       "      <td>311.963409</td>\n",
       "      <td>0.000000</td>\n",
       "      <td>12</td>\n",
       "    </tr>\n",
       "    <tr>\n",
       "      <th>9</th>\n",
       "      <td>C10010</td>\n",
       "      <td>152.225975</td>\n",
       "      <td>0.545455</td>\n",
       "      <td>1281.60</td>\n",
       "      <td>1281.60</td>\n",
       "      <td>0.00</td>\n",
       "      <td>0.000000</td>\n",
       "      <td>0.166667</td>\n",
       "      <td>0.166667</td>\n",
       "      <td>0.000000</td>\n",
       "      <td>0.000000</td>\n",
       "      <td>0</td>\n",
       "      <td>3</td>\n",
       "      <td>11000.0</td>\n",
       "      <td>1164.770591</td>\n",
       "      <td>100.302262</td>\n",
       "      <td>0.000000</td>\n",
       "      <td>12</td>\n",
       "    </tr>\n",
       "  </tbody>\n",
       "</table>\n",
       "</div>"
      ],
      "text/plain": [
       "  CUST_ID      BALANCE  BALANCE_FREQUENCY  PURCHASES  ONEOFF_PURCHASES  \\\n",
       "0  C10001    40.900749           0.818182      95.40              0.00   \n",
       "1  C10002  3202.467416           0.909091       0.00              0.00   \n",
       "2  C10003  2495.148862           1.000000     773.17            773.17   \n",
       "3  C10004  1666.670542           0.636364    1499.00           1499.00   \n",
       "4  C10005   817.714335           1.000000      16.00             16.00   \n",
       "5  C10006  1809.828751           1.000000    1333.28              0.00   \n",
       "6  C10007   627.260806           1.000000    7091.01           6402.63   \n",
       "7  C10008  1823.652743           1.000000     436.20              0.00   \n",
       "8  C10009  1014.926473           1.000000     861.49            661.49   \n",
       "9  C10010   152.225975           0.545455    1281.60           1281.60   \n",
       "\n",
       "   INSTALLMENTS_PURCHASES  CASH_ADVANCE  PURCHASES_FREQUENCY  \\\n",
       "0                   95.40      0.000000             0.166667   \n",
       "1                    0.00   6442.945483             0.000000   \n",
       "2                    0.00      0.000000             1.000000   \n",
       "3                    0.00    205.788017             0.083333   \n",
       "4                    0.00      0.000000             0.083333   \n",
       "5                 1333.28      0.000000             0.666667   \n",
       "6                  688.38      0.000000             1.000000   \n",
       "7                  436.20      0.000000             1.000000   \n",
       "8                  200.00      0.000000             0.333333   \n",
       "9                    0.00      0.000000             0.166667   \n",
       "\n",
       "   ONEOFF_PURCHASES_FREQUENCY  PURCHASES_INSTALLMENTS_FREQUENCY  \\\n",
       "0                    0.000000                          0.083333   \n",
       "1                    0.000000                          0.000000   \n",
       "2                    1.000000                          0.000000   \n",
       "3                    0.083333                          0.000000   \n",
       "4                    0.083333                          0.000000   \n",
       "5                    0.000000                          0.583333   \n",
       "6                    1.000000                          1.000000   \n",
       "7                    0.000000                          1.000000   \n",
       "8                    0.083333                          0.250000   \n",
       "9                    0.166667                          0.000000   \n",
       "\n",
       "   CASH_ADVANCE_FREQUENCY  CASH_ADVANCE_TRX  PURCHASES_TRX  CREDIT_LIMIT  \\\n",
       "0                0.000000                 0              2        1000.0   \n",
       "1                0.250000                 4              0        7000.0   \n",
       "2                0.000000                 0             12        7500.0   \n",
       "3                0.083333                 1              1        7500.0   \n",
       "4                0.000000                 0              1        1200.0   \n",
       "5                0.000000                 0              8        1800.0   \n",
       "6                0.000000                 0             64       13500.0   \n",
       "7                0.000000                 0             12        2300.0   \n",
       "8                0.000000                 0              5        7000.0   \n",
       "9                0.000000                 0              3       11000.0   \n",
       "\n",
       "      PAYMENTS  MINIMUM_PAYMENTS  PRC_FULL_PAYMENT  TENURE  \n",
       "0   201.802084        139.509787          0.000000      12  \n",
       "1  4103.032597       1072.340217          0.222222      12  \n",
       "2   622.066742        627.284787          0.000000      12  \n",
       "3     0.000000               NaN          0.000000      12  \n",
       "4   678.334763        244.791237          0.000000      12  \n",
       "5  1400.057770       2407.246035          0.000000      12  \n",
       "6  6354.314328        198.065894          1.000000      12  \n",
       "7   679.065082        532.033990          0.000000      12  \n",
       "8   688.278568        311.963409          0.000000      12  \n",
       "9  1164.770591        100.302262          0.000000      12  "
      ]
     },
     "execution_count": 7,
     "metadata": {},
     "output_type": "execute_result"
    }
   ],
   "source": [
    "data.head(10)\n"
   ]
  },
  {
   "cell_type": "markdown",
   "metadata": {},
   "source": [
    "print count of labels in target column"
   ]
  },
  {
   "cell_type": "code",
   "execution_count": 9,
   "metadata": {},
   "outputs": [
    {
     "name": "stdout",
     "output_type": "stream",
     "text": [
      "12    7584\n",
      "11     365\n",
      "10     236\n",
      "6      204\n",
      "8      196\n",
      "7      190\n",
      "9      175\n",
      "Name: TENURE, dtype: int64\n"
     ]
    }
   ],
   "source": [
    "print(data[\"TENURE\"].value_counts())"
   ]
  },
  {
   "cell_type": "markdown",
   "metadata": {},
   "source": [
    "count number of null values"
   ]
  },
  {
   "cell_type": "code",
   "execution_count": 11,
   "metadata": {},
   "outputs": [
    {
     "name": "stdout",
     "output_type": "stream",
     "text": [
      "                                  Null Count\n",
      "Feature                                     \n",
      "MINIMUM_PAYMENTS                         313\n",
      "CREDIT_LIMIT                               1\n",
      "TENURE                                     0\n",
      "PURCHASES_FREQUENCY                        0\n",
      "BALANCE                                    0\n",
      "BALANCE_FREQUENCY                          0\n",
      "PURCHASES                                  0\n",
      "ONEOFF_PURCHASES                           0\n",
      "INSTALLMENTS_PURCHASES                     0\n",
      "CASH_ADVANCE                               0\n",
      "ONEOFF_PURCHASES_FREQUENCY                 0\n",
      "PRC_FULL_PAYMENT                           0\n",
      "PURCHASES_INSTALLMENTS_FREQUENCY           0\n",
      "CASH_ADVANCE_FREQUENCY                     0\n",
      "CASH_ADVANCE_TRX                           0\n",
      "PURCHASES_TRX                              0\n",
      "PAYMENTS                                   0\n",
      "CUST_ID                                    0\n"
     ]
    }
   ],
   "source": [
    "nulls = pd.DataFrame(data.isnull().sum().sort_values(ascending=False)[:25])\n",
    "nulls.columns  = ['Null Count']\n",
    "nulls.index.name  = 'Feature'\n",
    "print(nulls)"
   ]
  },
  {
   "cell_type": "markdown",
   "metadata": {},
   "source": [
    "replace null values with mean value"
   ]
  },
  {
   "cell_type": "code",
   "execution_count": 12,
   "metadata": {},
   "outputs": [],
   "source": [
    "data.loc[(data['MINIMUM_PAYMENTS'].isnull()==True),'MINIMUM_PAYMENTS']=data['MINIMUM_PAYMENTS'].mean()\n",
    "data.loc[(data['CREDIT_LIMIT'].isnull()==True),'CREDIT_LIMIT']=data['CREDIT_LIMIT'].mean()"
   ]
  },
  {
   "cell_type": "markdown",
   "metadata": {},
   "source": [
    "count number of null values"
   ]
  },
  {
   "cell_type": "code",
   "execution_count": 13,
   "metadata": {},
   "outputs": [
    {
     "name": "stdout",
     "output_type": "stream",
     "text": [
      "                                  Null Count\n",
      "Feature                                     \n",
      "TENURE                                     0\n",
      "PRC_FULL_PAYMENT                           0\n",
      "BALANCE                                    0\n",
      "BALANCE_FREQUENCY                          0\n",
      "PURCHASES                                  0\n",
      "ONEOFF_PURCHASES                           0\n",
      "INSTALLMENTS_PURCHASES                     0\n",
      "CASH_ADVANCE                               0\n",
      "PURCHASES_FREQUENCY                        0\n",
      "ONEOFF_PURCHASES_FREQUENCY                 0\n",
      "PURCHASES_INSTALLMENTS_FREQUENCY           0\n",
      "CASH_ADVANCE_FREQUENCY                     0\n",
      "CASH_ADVANCE_TRX                           0\n",
      "PURCHASES_TRX                              0\n",
      "CREDIT_LIMIT                               0\n",
      "PAYMENTS                                   0\n",
      "MINIMUM_PAYMENTS                           0\n",
      "CUST_ID                                    0\n"
     ]
    }
   ],
   "source": [
    "nulls = pd.DataFrame(data.isnull().sum().sort_values(ascending=False)[:25])\n",
    "nulls.columns  = ['Null Count']\n",
    "nulls.index.name  = 'Feature'\n",
    "print(nulls)"
   ]
  },
  {
   "cell_type": "markdown",
   "metadata": {},
   "source": [
    "print data shape"
   ]
  },
  {
   "cell_type": "code",
   "execution_count": 15,
   "metadata": {},
   "outputs": [
    {
     "name": "stdout",
     "output_type": "stream",
     "text": [
      "(8950, 16) (8950,)\n"
     ]
    }
   ],
   "source": [
    "x = data.iloc[:,1:-1]\n",
    "y = data.iloc[:,-1]\n",
    "print(x.shape,y.shape)"
   ]
  },
  {
   "cell_type": "markdown",
   "metadata": {},
   "source": [
    "Use the elbow method to find a good number of clusters with the KMeans algorithm"
   ]
  },
  {
   "cell_type": "code",
   "execution_count": 16,
   "metadata": {},
   "outputs": [
    {
     "name": "stdout",
     "output_type": "stream",
     "text": [
      "[393060974446.5349, 279296544720.109, 232802164165.40973, 206824661515.15485, 182174458590.89627, 162467723743.24792]\n"
     ]
    }
   ],
   "source": [
    "wcss = []\n",
    "for i in range(1,7):\n",
    "    kmeans = KMeans(n_clusters=i,init='k-means++',max_iter=300,n_init=10,random_state=0)\n",
    "    kmeans.fit(x)\n",
    "    wcss.append(kmeans.inertia_)\n",
    "print(wcss)"
   ]
  },
  {
   "cell_type": "code",
   "execution_count": 17,
   "metadata": {},
   "outputs": [
    {
     "data": {
      "image/png": "[encoded data removed]",
      "text/plain": [
       "<Figure size 432x288 with 1 Axes>"
      ]
     },
     "metadata": {
      "needs_background": "light"
     },
     "output_type": "display_data"
    }
   ],
   "source": [
    "plt.plot(range(1,7),wcss)\n",
    "plt.title('the elbow method')\n",
    "plt.xlabel('Number of Clusters')\n",
    "plt.ylabel('Wcss')\n",
    "plt.show()"
   ]
  },
  {
   "cell_type": "code",
   "execution_count": 19,
   "metadata": {},
   "outputs": [
    {
     "name": "stdout",
     "output_type": "stream",
     "text": [
      "0.46554377514360906\n"
     ]
    }
   ],
   "source": [
    "km = KMeans(n_clusters=3)\n",
    "km.fit(x)\n",
    "y_cluster_kmeans= km.predict(x)\n",
    "from sklearn import metrics\n",
    "score = metrics.silhouette_score(x, y_cluster_kmeans)\n",
    "print(score)"
   ]
  },
  {
   "cell_type": "markdown",
   "metadata": {},
   "source": [
    "Apply PCA on the same dataset."
   ]
  },
  {
   "cell_type": "code",
   "execution_count": 20,
   "metadata": {},
   "outputs": [
    {
     "name": "stdout",
     "output_type": "stream",
     "text": [
      "             0         1         2  TENURE\n",
      "0    -1.718893 -1.072940  0.535698      12\n",
      "1    -1.169306  2.509320  0.627981      12\n",
      "2     0.938414 -0.382600  0.161220      12\n",
      "3    -0.907503  0.045859  1.521693      12\n",
      "4    -1.637830 -0.684975  0.425697      12\n",
      "5     0.219125 -0.778498 -1.090785      12\n",
      "6     6.346882 -0.698184  2.050005      12\n",
      "7     0.245607 -1.289271 -1.806283      12\n",
      "8    -0.477752 -0.459384  0.251567      12\n",
      "9    -0.596618 -0.363943  2.014311      12\n",
      "10    0.510145 -1.311825 -1.914145      12\n",
      "11   -0.717459 -0.783016  1.204453      12\n",
      "12    1.957559 -1.322850 -0.632792      12\n",
      "13    1.532676 -0.879361 -0.735823      12\n",
      "14   -1.627033  0.236755  0.253009      12\n",
      "15    0.759643  1.848126 -1.155931      12\n",
      "16   -1.889229  0.946133  0.359116       8\n",
      "17   -0.986854 -1.574914  0.756892      12\n",
      "18    0.464564 -0.094505 -0.494947      12\n",
      "19    0.747317  0.051189 -2.925106      12\n",
      "20   -0.181353 -0.066074 -2.311204      12\n",
      "21    5.514969  1.739415  0.039345      12\n",
      "22    0.390680 -1.738053 -0.883160      12\n",
      "23    2.790962  3.698312  0.095783      12\n",
      "24   -1.401406  1.927029 -0.079675      11\n",
      "25    0.133321 -1.631921 -1.676007      12\n",
      "26   -1.478261  0.433904  0.069552      12\n",
      "27   -0.079781 -1.771840 -1.731990      12\n",
      "28   -0.038097  4.130936 -1.620232      12\n",
      "29   -0.807614 -0.863278 -0.263914      12\n",
      "...        ...       ...       ...     ...\n",
      "8920 -2.154602  0.445462  0.732839       6\n",
      "8921 -0.633766 -1.980880 -0.611945       6\n",
      "8922 -0.217012 -1.859207 -1.400199       6\n",
      "8923  1.417269 -1.821684 -0.133365       6\n",
      "8924 -1.781389 -1.188689  1.649926       6\n",
      "8925 -0.320814 -1.778994 -0.725010       6\n",
      "8926  0.190805 -2.169110 -0.896966       6\n",
      "8927  0.207029 -1.878308 -1.229021       6\n",
      "8928  0.336348 -2.339824 -1.095780       6\n",
      "8929 -2.317317 -0.114600  1.338705       6\n",
      "8930 -0.555431 -0.651507 -1.798009       6\n",
      "8931 -0.295422 -2.052753 -0.578568       6\n",
      "8932  0.124563 -2.371007 -1.123076       6\n",
      "8933  0.121543 -0.790729 -1.660419       6\n",
      "8934 -0.728539 -1.797349 -0.271572       6\n",
      "8935 -0.127448 -1.616749 -1.584226       6\n",
      "8936  0.358944 -2.154368 -1.182836       6\n",
      "8937 -2.172649 -0.423689  0.897688       6\n",
      "8938 -2.015867 -0.203017  1.363849       6\n",
      "8939 -1.047264 -0.338648  0.348563       6\n",
      "8940  0.393407 -2.324397 -1.100432       6\n",
      "8941 -0.286227  4.184273 -1.819379       6\n",
      "8942 -0.260326 -1.886592 -1.411929       6\n",
      "8943 -1.878716 -1.277996  1.250873       6\n",
      "8944 -0.768862 -0.809025  0.933274       6\n",
      "8945 -0.025276 -2.034127 -1.292051       6\n",
      "8946 -0.233113 -1.656651 -1.559899       6\n",
      "8947 -0.593880 -1.828115 -0.755823       6\n",
      "8948 -2.007672 -0.673768  0.714354       6\n",
      "8949 -0.217933 -0.418490  0.734357       6\n",
      "\n",
      "[8950 rows x 4 columns]\n"
     ]
    }
   ],
   "source": [
    "from sklearn.preprocessing import StandardScaler\n",
    "scaler = StandardScaler()\n",
    "scaler.fit(x)\n",
    "\n",
    "x_scaler = scaler.transform(x)\n",
    "pca = PCA(3)\n",
    "x_pca = pca.fit_transform(x_scaler)\n",
    "df2 = pd.DataFrame(data=x_pca)\n",
    "finaldf = pd.concat([df2,data[['TENURE']]],axis=1)\n",
    "print(finaldf)"
   ]
  },
  {
   "cell_type": "markdown",
   "metadata": {},
   "source": [
    "Calculate the silhouette score for the above clustering"
   ]
  },
  {
   "cell_type": "code",
   "execution_count": 21,
   "metadata": {},
   "outputs": [
    {
     "name": "stdout",
     "output_type": "stream",
     "text": [
      "0.3815771061577699\n"
     ]
    }
   ],
   "source": [
    "km = KMeans(n_clusters=3)\n",
    "km.fit(x_pca)\n",
    "y_cluster_kmeans= km.predict(x_pca)\n",
    "from sklearn import metrics\n",
    "score = metrics.silhouette_score(x_pca, y_cluster_kmeans)\n",
    "print(score)"
   ]
  },
  {
   "cell_type": "code",
   "execution_count": null,
   "metadata": {},
   "outputs": [],
   "source": []
  }
 ],
 "metadata": {
  "kernelspec": {
   "display_name": "Python 3",
   "language": "python",
   "name": "python3"
  },
  "language_info": {
   "codemirror_mode": {
    "name": "ipython",
    "version": 3
   },
   "file_extension": ".py",
   "mimetype": "text/x-python",
   "name": "python",
   "nbconvert_exporter": "python",
   "pygments_lexer": "ipython3",
   "version": "3.6.8"
  },
  "pycharm": {
   "stem_cell": {
    "cell_type": "raw",
    "metadata": {
     "collapsed": false
    },
    "source": []
   }
  }
 },
 "nbformat": 4,
 "nbformat_minor": 1
}
